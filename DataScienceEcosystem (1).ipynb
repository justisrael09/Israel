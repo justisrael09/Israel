{
 "cells": [
  {
   "cell_type": "markdown",
   "id": "64f13f25",
   "metadata": {},
   "source": [
    "# Data Science Tools and Ecosystem"
   ]
  },
  {
   "cell_type": "markdown",
   "id": "e3d01e78",
   "metadata": {},
   "source": [
    "In this notebook, Data Science Tools and Ecosystem are summarized."
   ]
  },
  {
   "cell_type": "markdown",
   "id": "7d51d60d",
   "metadata": {},
   "source": [
    "Some of the popular languages that Data Scientists use are:"
   ]
  },
  {
   "cell_type": "markdown",
   "id": "4a465ab0",
   "metadata": {},
   "source": [
    "1. Python\n",
    "2. SQL\n",
    "3. Java\n",
    "4. R."
   ]
  },
  {
   "cell_type": "markdown",
   "id": "590ec1c2",
   "metadata": {},
   "source": [
    "__Objectives:__\n",
    "\n",
    "+ Describe how to run, insert, and delete a cell in a notebook. \n",
    "+ Work with multiple notebooks. \n",
    "+ Present the notebook, and \n",
    "+ shut down the notebook session. \n"
   ]
  },
  {
   "cell_type": "markdown",
   "id": "8d96fac3",
   "metadata": {},
   "source": [
    "| Data Science Tools |\n",
    "| ------ |\n",
    "| RStudio |\n",
    "| Apache Spark |\n",
    "| Tensor flow |"
   ]
  },
  {
   "cell_type": "markdown",
   "id": "160bac21",
   "metadata": {},
   "source": [
    "### Below are a few examples of evaluating arithmetic expressions in Python"
   ]
  },
  {
   "cell_type": "markdown",
   "id": "17443310",
   "metadata": {},
   "source": [
    "This a simple arithmetic expression to mutiply then add integers"
   ]
  },
  {
   "cell_type": "code",
   "execution_count": 1,
   "id": "bf1a05eb",
   "metadata": {},
   "outputs": [
    {
     "data": {
      "text/plain": [
       "17"
      ]
     },
     "execution_count": 1,
     "metadata": {},
     "output_type": "execute_result"
    }
   ],
   "source": [
    "(3*4)+5"
   ]
  },
  {
   "cell_type": "markdown",
   "id": "e4290d3a",
   "metadata": {},
   "source": [
    "This will convert 200 minutes to hours by diving by 60"
   ]
  },
  {
   "cell_type": "code",
   "execution_count": 4,
   "id": "37b316f7",
   "metadata": {},
   "outputs": [
    {
     "data": {
      "text/plain": [
       "3.3333333333333335"
      ]
     },
     "execution_count": 4,
     "metadata": {},
     "output_type": "execute_result"
    }
   ],
   "source": [
    "200/60"
   ]
  },
  {
   "cell_type": "markdown",
   "id": "9c32c933",
   "metadata": {},
   "source": [
    "## Author\n",
    "Ayeni Israel olumide"
   ]
  },
  {
   "cell_type": "code",
   "execution_count": null,
   "id": "a4ac1d6f",
   "metadata": {},
   "outputs": [],
   "source": []
  }
 ],
 "metadata": {
  "kernelspec": {
   "display_name": "Python 3 (ipykernel)",
   "language": "python",
   "name": "python3"
  },
  "language_info": {
   "codemirror_mode": {
    "name": "ipython",
    "version": 3
   },
   "file_extension": ".py",
   "mimetype": "text/x-python",
   "name": "python",
   "nbconvert_exporter": "python",
   "pygments_lexer": "ipython3",
   "version": "3.10.9"
  }
 },
 "nbformat": 4,
 "nbformat_minor": 5
}
